{
 "cells": [
  {
   "cell_type": "code",
   "execution_count": 1,
   "id": "08aaee36",
   "metadata": {},
   "outputs": [],
   "source": [
    "import numpy as np"
   ]
  },
  {
   "cell_type": "code",
   "execution_count": 2,
   "id": "b6b95d3a",
   "metadata": {},
   "outputs": [],
   "source": [
    "def read_glove_data(glove_file):\n",
    "    with open(glove_file,'r',encoding=\"utf-8\") as f:\n",
    "        words=set()\n",
    "        word_to_vec_map={}\n",
    "        curr_word=None\n",
    "        i=0\n",
    "        try:\n",
    "            for line in f:\n",
    "                i=i+1\n",
    "                try:\n",
    "                    line=line.strip().split()\n",
    "                    curr_word=line[0]\n",
    "                    word_to_vec_map[curr_word]=np.array(line[1:],dtype=np.float64)\n",
    "                except Exception as E:\n",
    "                    print(\"Got an exception,word=\",curr_word,i)\n",
    "                    pass\n",
    "        except Exception as E:\n",
    "            print(\"got an exception before for word=\",curr_word,i)\n",
    "            pass\n",
    "    return word_to_vec_map"
   ]
  },
  {
   "cell_type": "code",
   "execution_count": 4,
   "id": "4314ce33",
   "metadata": {},
   "outputs": [],
   "source": [
    "word_to_vec_map=read_glove_data(\"C:\\\\Users\\\\ShreerangaKV\\\\Downloads\\\\glove.6B.50d.txt\\\\glove.6B.50d.txt\")"
   ]
  },
  {
   "cell_type": "code",
   "execution_count": 6,
   "id": "bb2fdb16",
   "metadata": {},
   "outputs": [
    {
     "data": {
      "text/plain": [
       "array([ 4.1800e-01,  2.4968e-01, -4.1242e-01,  1.2170e-01,  3.4527e-01,\n",
       "       -4.4457e-02, -4.9688e-01, -1.7862e-01, -6.6023e-04, -6.5660e-01,\n",
       "        2.7843e-01, -1.4767e-01, -5.5677e-01,  1.4658e-01, -9.5095e-03,\n",
       "        1.1658e-02,  1.0204e-01, -1.2792e-01, -8.4430e-01, -1.2181e-01,\n",
       "       -1.6801e-02, -3.3279e-01, -1.5520e-01, -2.3131e-01, -1.9181e-01,\n",
       "       -1.8823e+00, -7.6746e-01,  9.9051e-02, -4.2125e-01, -1.9526e-01,\n",
       "        4.0071e+00, -1.8594e-01, -5.2287e-01, -3.1681e-01,  5.9213e-04,\n",
       "        7.4449e-03,  1.7778e-01, -1.5897e-01,  1.2041e-02, -5.4223e-02,\n",
       "       -2.9871e-01, -1.5749e-01, -3.4758e-01, -4.5637e-02, -4.4251e-01,\n",
       "        1.8785e-01,  2.7849e-03, -1.8411e-01, -1.1514e-01, -7.8581e-01])"
      ]
     },
     "execution_count": 6,
     "metadata": {},
     "output_type": "execute_result"
    }
   ],
   "source": []
  },
  {
   "cell_type": "code",
   "execution_count": 7,
   "id": "b4b9f1a0",
   "metadata": {},
   "outputs": [],
   "source": [
    "def cos_similarity(vec1,vec2):\n",
    "    distance=0.0\n",
    "    dot=np.dot(vec1,vec2)\n",
    "    norm_vec_1=np.linalg.norm(vec1)\n",
    "    norm_vec_2=np.linalg.norm(vec2)\n",
    "    cos_similarity=dot/(norm_vec_1*norm_vec_2)\n",
    "    return cos_similarity"
   ]
  },
  {
   "cell_type": "code",
   "execution_count": 8,
   "id": "09f2a2f2",
   "metadata": {},
   "outputs": [
    {
     "data": {
      "text/plain": [
       "0.6831496825462536"
      ]
     },
     "execution_count": 8,
     "metadata": {},
     "output_type": "execute_result"
    }
   ],
   "source": [
    "cos_similarity(word_to_vec_map[\"walk\"],word_to_vec_map[\"run\"])"
   ]
  },
  {
   "cell_type": "code",
   "execution_count": 9,
   "id": "f54150c6",
   "metadata": {},
   "outputs": [
    {
     "data": {
      "text/plain": [
       "0.7839043010964117"
      ]
     },
     "execution_count": 9,
     "metadata": {},
     "output_type": "execute_result"
    }
   ],
   "source": [
    "cos_similarity(word_to_vec_map[\"king\"],word_to_vec_map[\"queen\"])"
   ]
  },
  {
   "cell_type": "code",
   "execution_count": 10,
   "id": "3336cf2f",
   "metadata": {},
   "outputs": [
    {
     "data": {
      "text/plain": [
       "0.8909038442893615"
      ]
     },
     "execution_count": 10,
     "metadata": {},
     "output_type": "execute_result"
    }
   ],
   "source": [
    "cos_similarity(word_to_vec_map[\"father\"],word_to_vec_map[\"mother\"])"
   ]
  },
  {
   "cell_type": "markdown",
   "id": "7304c70b",
   "metadata": {},
   "source": [
    "# Find the missing"
   ]
  },
  {
   "cell_type": "code",
   "execution_count": 18,
   "id": "27e087ca",
   "metadata": {},
   "outputs": [],
   "source": [
    "def findMissing(word_a,word_b,word_c,word_to_vec_map):\n",
    "    word_a,word_b,word_c=word_a.lower(),word_b.lower(),word_c.lower()\n",
    "    e_a,e_b,e_c=word_to_vec_map[word_a],word_to_vec_map[word_b],word_to_vec_map[word_c]\n",
    "    words=word_to_vec_map.keys()\n",
    "    max_cosine_sim= -1000\n",
    "    best_word=None\n",
    "    \n",
    "    for w in words:\n",
    "        if w in [word_a,word_b,word_c]:\n",
    "            continue\n",
    "        try:\n",
    "            cos_sim= cos_similarity(e_b-e_a,word_to_vec_map[w]-e_c)\n",
    "            \n",
    "            if (cos_sim>max_cosine_sim):\n",
    "                max_cosine_sim= cos_sim\n",
    "                best_word = w\n",
    "                \n",
    "        except ValueError as ve:\n",
    "            print(\"Got an Exception\",ve,w)\n",
    "            pass\n",
    "        except keyError as ke:\n",
    "            print(\"This is the key\",w,\"not found\")\n",
    "    print(\"Done\")\n",
    "    return best_word,max_cosine_sim"
   ]
  },
  {
   "cell_type": "code",
   "execution_count": 19,
   "id": "42f92963",
   "metadata": {},
   "outputs": [],
   "source": [
    "word_a, word_b, word_c= 'father', 'mother', 'son'"
   ]
  },
  {
   "cell_type": "code",
   "execution_count": 20,
   "id": "d5cc2efe",
   "metadata": {},
   "outputs": [
    {
     "name": "stdout",
     "output_type": "stream",
     "text": [
      "Done\n"
     ]
    },
    {
     "data": {
      "text/plain": [
       "('daughter', 0.8145878966131403)"
      ]
     },
     "execution_count": 20,
     "metadata": {},
     "output_type": "execute_result"
    }
   ],
   "source": [
    "findMissing(word_a,word_b,word_c,word_to_vec_map)"
   ]
  },
  {
   "cell_type": "code",
   "execution_count": null,
   "id": "f06f0d32",
   "metadata": {},
   "outputs": [],
   "source": []
  }
 ],
 "metadata": {
  "kernelspec": {
   "display_name": "Python 3 (ipykernel)",
   "language": "python",
   "name": "python3"
  },
  "language_info": {
   "codemirror_mode": {
    "name": "ipython",
    "version": 3
   },
   "file_extension": ".py",
   "mimetype": "text/x-python",
   "name": "python",
   "nbconvert_exporter": "python",
   "pygments_lexer": "ipython3",
   "version": "3.9.7"
  }
 },
 "nbformat": 4,
 "nbformat_minor": 5
}
