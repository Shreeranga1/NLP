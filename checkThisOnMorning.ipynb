{
 "cells": [
  {
   "cell_type": "code",
   "execution_count": 1,
   "id": "709dbbd5",
   "metadata": {},
   "outputs": [],
   "source": [
    "import pandas as pd\n",
    "import numpy as np\n",
    "\n",
    "from sklearn.utils import shuffle\n",
    "import numpy as np\n",
    "\n",
    "from tensorflow.keras.preprocessing.text import Tokenizer\n",
    "from tensorflow.keras.models import Sequential, load_model\n",
    "from tensorflow.keras.layers import LSTM, Dense, Dropout, Embedding, Masking, Bidirectional\n",
    "from tensorflow.keras.optimizers import Adam\n",
    "from tensorflow.keras import backend"
   ]
  },
  {
   "cell_type": "code",
   "execution_count": 2,
   "id": "1b0e46c4",
   "metadata": {},
   "outputs": [],
   "source": [
    "df=pd.read_csv(\"C:\\\\Users\\\\ShreerangaKV\\\\Downloads\\\\NLP_ESA_QP_SEPT21-20220304T040459Z-001 (1)\\\\NLP_ESA_QP_SEPT21\\\\NLP1.csv\")"
   ]
  },
  {
   "cell_type": "code",
   "execution_count": 3,
   "id": "759bcd69",
   "metadata": {},
   "outputs": [
    {
     "data": {
      "text/html": [
       "<div>\n",
       "<style scoped>\n",
       "    .dataframe tbody tr th:only-of-type {\n",
       "        vertical-align: middle;\n",
       "    }\n",
       "\n",
       "    .dataframe tbody tr th {\n",
       "        vertical-align: top;\n",
       "    }\n",
       "\n",
       "    .dataframe thead th {\n",
       "        text-align: right;\n",
       "    }\n",
       "</style>\n",
       "<table border=\"1\" class=\"dataframe\">\n",
       "  <thead>\n",
       "    <tr style=\"text-align: right;\">\n",
       "      <th></th>\n",
       "      <th>Review</th>\n",
       "      <th>Star</th>\n",
       "    </tr>\n",
       "  </thead>\n",
       "  <tbody>\n",
       "    <tr>\n",
       "      <th>0</th>\n",
       "      <td>This is my 1st ever Echo 🥺 I'm amazed by its c...</td>\n",
       "      <td>4.4</td>\n",
       "    </tr>\n",
       "    <tr>\n",
       "      <th>1</th>\n",
       "      <td>Excellent product, super quality. It capable t...</td>\n",
       "      <td>5.0</td>\n",
       "    </tr>\n",
       "    <tr>\n",
       "      <th>2</th>\n",
       "      <td>So it is my first Echo Dot.It definitely looks...</td>\n",
       "      <td>2.0</td>\n",
       "    </tr>\n",
       "    <tr>\n",
       "      <th>3</th>\n",
       "      <td>I was expecting more as it's 4th gen... But di...</td>\n",
       "      <td>5.0</td>\n",
       "    </tr>\n",
       "    <tr>\n",
       "      <th>4</th>\n",
       "      <td>Love the new revamped version of Alexa.  All y...</td>\n",
       "      <td>5.0</td>\n",
       "    </tr>\n",
       "  </tbody>\n",
       "</table>\n",
       "</div>"
      ],
      "text/plain": [
       "                                              Review  Star\n",
       "0  This is my 1st ever Echo 🥺 I'm amazed by its c...   4.4\n",
       "1  Excellent product, super quality. It capable t...   5.0\n",
       "2  So it is my first Echo Dot.It definitely looks...   2.0\n",
       "3  I was expecting more as it's 4th gen... But di...   5.0\n",
       "4  Love the new revamped version of Alexa.  All y...   5.0"
      ]
     },
     "execution_count": 3,
     "metadata": {},
     "output_type": "execute_result"
    }
   ],
   "source": [
    "df.head()"
   ]
  },
  {
   "cell_type": "code",
   "execution_count": 4,
   "id": "530641ea",
   "metadata": {},
   "outputs": [],
   "source": [
    "emotions=[]\n",
    "for i in df.Star.iteritems():\n",
    "    if i[1]>3:\n",
    "         emotions.append(\"positive\")\n",
    "    else:\n",
    "        emotions.append(\"negative\")"
   ]
  },
  {
   "cell_type": "code",
   "execution_count": 5,
   "id": "dd229cbf",
   "metadata": {},
   "outputs": [],
   "source": [
    "df[\"Emotion\"]=pd.Series(emotions)"
   ]
  },
  {
   "cell_type": "code",
   "execution_count": 6,
   "id": "2e1e2810",
   "metadata": {},
   "outputs": [],
   "source": [
    "df.Review=df.Review.str.lower()"
   ]
  },
  {
   "cell_type": "code",
   "execution_count": 7,
   "id": "f14c0be9",
   "metadata": {},
   "outputs": [
    {
     "name": "stderr",
     "output_type": "stream",
     "text": [
      "C:\\Users\\SHREER~1\\AppData\\Local\\Temp/ipykernel_22244/288346799.py:1: FutureWarning: The default value of regex will change from True to False in a future version.\n",
      "  df.Review=df.Review.str.replace('[^a-z\\s]','')\n"
     ]
    }
   ],
   "source": [
    "df.Review=df.Review.str.replace('[^a-z\\s]','')"
   ]
  },
  {
   "cell_type": "code",
   "execution_count": 14,
   "id": "464de842",
   "metadata": {},
   "outputs": [],
   "source": [
    "import nltk\n",
    "from nltk.corpus import stopwords"
   ]
  },
  {
   "cell_type": "code",
   "execution_count": 16,
   "id": "0532d8aa",
   "metadata": {},
   "outputs": [],
   "source": [
    "stopWords=set(stopwords.words('english'))"
   ]
  },
  {
   "cell_type": "code",
   "execution_count": 17,
   "id": "d2a292e2",
   "metadata": {},
   "outputs": [],
   "source": [
    "from gensim.parsing.preprocessing import remove_stopwords"
   ]
  },
  {
   "cell_type": "code",
   "execution_count": 18,
   "id": "32ca3478",
   "metadata": {},
   "outputs": [],
   "source": [
    "docs=df.Review.apply(remove_stopwords)"
   ]
  },
  {
   "cell_type": "code",
   "execution_count": 19,
   "id": "46b4616b",
   "metadata": {},
   "outputs": [
    {
     "data": {
      "text/plain": [
       "'st echo im amazed capabilities feel necessities itthe want dependent dependentits impulsive purchase experience echo devices experience technology things useful like asking questions weather alarm news etcnow pros love design good weight sturdy built good bass driver highs tweeter adding unbelievable clarity sound easily pair alexa app priced moderately connections smart plug smart bulbs easily play apple music u hv subscription auto pairing light cuts excellent sound quality wize feet power adaptor cable line mm connecting external speakers htcons need continuous power need continuous wifi connectioncolors black white blue black gives contrast lighting ring black doesnt dirty easily gives distinct lookthats friends ask questions'"
      ]
     },
     "execution_count": 19,
     "metadata": {},
     "output_type": "execute_result"
    }
   ],
   "source": [
    "docs[0]"
   ]
  },
  {
   "cell_type": "code",
   "execution_count": 21,
   "id": "d1f4b6ce",
   "metadata": {},
   "outputs": [],
   "source": [
    "from gensim.parsing.porter import PorterStemmer"
   ]
  },
  {
   "cell_type": "code",
   "execution_count": 22,
   "id": "7436b646",
   "metadata": {},
   "outputs": [],
   "source": [
    "stem=PorterStemmer()"
   ]
  },
  {
   "cell_type": "code",
   "execution_count": 23,
   "id": "9bd55606",
   "metadata": {},
   "outputs": [],
   "source": [
    "docs=stem.stem_documents(docs)"
   ]
  },
  {
   "cell_type": "code",
   "execution_count": 24,
   "id": "c685645b",
   "metadata": {},
   "outputs": [],
   "source": [
    "from nltk.stem.wordnet import WordNetLemmatizer"
   ]
  },
  {
   "cell_type": "code",
   "execution_count": 25,
   "id": "bdd77931",
   "metadata": {},
   "outputs": [],
   "source": [
    "lemma=WordNetLemmatizer()"
   ]
  },
  {
   "cell_type": "code",
   "execution_count": 30,
   "id": "e4879b8d",
   "metadata": {},
   "outputs": [],
   "source": [
    "lemmDocs=[]\n",
    "for lines in docs:\n",
    "    lemmDocs.append(lemma.lemmatize(lines))\n",
    "    "
   ]
  },
  {
   "cell_type": "code",
   "execution_count": 40,
   "id": "3e9cb990",
   "metadata": {},
   "outputs": [],
   "source": [
    "final_x=pd.Series(lemmDocs)"
   ]
  },
  {
   "cell_type": "code",
   "execution_count": 43,
   "id": "5512e75b",
   "metadata": {},
   "outputs": [
    {
     "data": {
      "text/plain": [
       "'st echo im amaz capabl feel necess itth want depend dependentit impuls purchas experi echo devic experi technolog thing us like ask question weather alarm new etcnow pro love design good weight sturdi built good bass driver high tweeter ad unbeliev clariti sound easili pair alexa app price moder connect smart plug smart bulb easili plai appl music u hv subscript auto pair light cut excel sound qualiti wize feet power adaptor cabl line mm connect extern speaker htcon need continu power need continu wifi connectioncolor black white blue black give contrast light ring black doesnt dirti easili give distinct lookthat friend ask question'"
      ]
     },
     "execution_count": 43,
     "metadata": {},
     "output_type": "execute_result"
    }
   ],
   "source": [
    "final_x[0]"
   ]
  },
  {
   "cell_type": "code",
   "execution_count": 34,
   "id": "14ef6e4c",
   "metadata": {},
   "outputs": [],
   "source": [
    "from keras.preprocessing.text import Tokenizer\n",
    "from tensorflow.keras.preprocessing.sequence import pad_sequences\n",
    "vocabSize = 20000"
   ]
  },
  {
   "cell_type": "code",
   "execution_count": 35,
   "id": "dfdb0826",
   "metadata": {},
   "outputs": [],
   "source": [
    "tokenizer=Tokenizer(num_words=vocabSize,split=' ')"
   ]
  },
  {
   "cell_type": "code",
   "execution_count": 46,
   "id": "c56456ad",
   "metadata": {},
   "outputs": [],
   "source": [
    "tokenizer.fit_on_texts(final_x.values)"
   ]
  },
  {
   "cell_type": "code",
   "execution_count": 47,
   "id": "b8e07146",
   "metadata": {},
   "outputs": [],
   "source": [
    "X=tokenizer.texts_to_sequences(final_x.values)"
   ]
  },
  {
   "cell_type": "code",
   "execution_count": 51,
   "id": "f6f659a9",
   "metadata": {},
   "outputs": [],
   "source": [
    " # padd sequences"
   ]
  },
  {
   "cell_type": "code",
   "execution_count": 53,
   "id": "83d65907",
   "metadata": {},
   "outputs": [],
   "source": [
    "X=pad_sequences(X)\n",
    "Y=pd.get_dummies(df.Emotion)"
   ]
  },
  {
   "cell_type": "code",
   "execution_count": 60,
   "id": "aa22d1c3",
   "metadata": {},
   "outputs": [
    {
     "data": {
      "text/plain": [
       "(344, 444)"
      ]
     },
     "execution_count": 60,
     "metadata": {},
     "output_type": "execute_result"
    }
   ],
   "source": [
    "X.shape"
   ]
  },
  {
   "cell_type": "code",
   "execution_count": 54,
   "id": "4d027ea5",
   "metadata": {},
   "outputs": [],
   "source": [
    "from sklearn.model_selection import train_test_split\n",
    "x_train,X_test,Y_train,Y_test=train_test_split(X,Y,test_size=0.2)"
   ]
  },
  {
   "cell_type": "code",
   "execution_count": 56,
   "id": "8a7604e4",
   "metadata": {},
   "outputs": [
    {
     "name": "stdout",
     "output_type": "stream",
     "text": [
      "(275, 444) (69, 444)\n",
      "(275, 2) (69, 2)\n"
     ]
    }
   ],
   "source": [
    "print(x_train.shape,X_test.shape)\n",
    "print(Y_train.shape,Y_test.shape)"
   ]
  },
  {
   "cell_type": "markdown",
   "id": "a5a31f8f",
   "metadata": {},
   "source": [
    "# Model building "
   ]
  },
  {
   "cell_type": "code",
   "execution_count": 97,
   "id": "1cdc40a2",
   "metadata": {},
   "outputs": [],
   "source": [
    "from tensorflow.keras.models import Sequential\n",
    "from tensorflow.keras.layers import Dense,Embedding,LSTM,SpatialDropout1D,Flatten"
   ]
  },
  {
   "cell_type": "code",
   "execution_count": 102,
   "id": "e8e1777c",
   "metadata": {},
   "outputs": [
    {
     "name": "stdout",
     "output_type": "stream",
     "text": [
      "Model: \"sequential_11\"\n",
      "_________________________________________________________________\n",
      " Layer (type)                Output Shape              Param #   \n",
      "=================================================================\n",
      " embedding_9 (Embedding)     (None, 444, 128)          2560000   \n",
      "                                                                 \n",
      " lstm_7 (LSTM)               (None, 196)               254800    \n",
      "                                                                 \n",
      " dense_6 (Dense)             (None, 2)                 394       \n",
      "                                                                 \n",
      " flatten_2 (Flatten)         (None, 2)                 0         \n",
      "                                                                 \n",
      "=================================================================\n",
      "Total params: 2,815,194\n",
      "Trainable params: 2,815,194\n",
      "Non-trainable params: 0\n",
      "_________________________________________________________________\n",
      "None\n"
     ]
    }
   ],
   "source": [
    "model=Sequential()\n",
    "model.add(Embedding(20000,128,input_length=X.shape[1]))\n",
    "# model.add(SpatialDropout1D(0.4))\n",
    "model.add(LSTM(196,dropout=0.2,recurrent_dropout=0.2))\n",
    "model.add(Dense(2,activation='softmax'))\n",
    "model.add(Flatten())\n",
    "model.compile(loss='categorical_crossentropy',optimizer='adam',metrics=['accuracy'])\n",
    "print(model.summary())"
   ]
  },
  {
   "cell_type": "code",
   "execution_count": 103,
   "id": "27083f06",
   "metadata": {},
   "outputs": [
    {
     "name": "stdout",
     "output_type": "stream",
     "text": [
      "Epoch 1/2\n",
      "9/9 - 21s - loss: 0.6506 - accuracy: 0.7091 - 21s/epoch - 2s/step\n",
      "Epoch 2/2\n",
      "9/9 - 18s - loss: 0.5803 - accuracy: 0.7091 - 18s/epoch - 2s/step\n"
     ]
    },
    {
     "data": {
      "text/plain": [
       "<keras.callbacks.History at 0x25598d13280>"
      ]
     },
     "execution_count": 103,
     "metadata": {},
     "output_type": "execute_result"
    }
   ],
   "source": [
    "batch_size=5\n",
    "model.fit(x_train,Y_train,epochs=2,batch_size=32,verbose=2)"
   ]
  },
  {
   "cell_type": "code",
   "execution_count": 92,
   "id": "eb4e118c",
   "metadata": {},
   "outputs": [
    {
     "name": "stdout",
     "output_type": "stream",
     "text": [
      "(69, 444)\n",
      "(444, 69)\n"
     ]
    }
   ],
   "source": [
    "print(X_test.shape)\n",
    "print(X_test.T.shape)"
   ]
  },
  {
   "cell_type": "code",
   "execution_count": 151,
   "id": "46bc1634",
   "metadata": {},
   "outputs": [],
   "source": [
    "predictions=model.predict(X_test)"
   ]
  },
  {
   "cell_type": "code",
   "execution_count": 152,
   "id": "00ef6530",
   "metadata": {},
   "outputs": [],
   "source": [
    "argMax=[]\n",
    "for i in predictions:\n",
    "    argMax.append(np.argmax(i))"
   ]
  },
  {
   "cell_type": "code",
   "execution_count": 153,
   "id": "1f44fd53",
   "metadata": {},
   "outputs": [
    {
     "data": {
      "text/plain": [
       "numpy.int64"
      ]
     },
     "execution_count": 153,
     "metadata": {},
     "output_type": "execute_result"
    }
   ],
   "source": [
    "type(argMax[0])"
   ]
  },
  {
   "cell_type": "code",
   "execution_count": 160,
   "id": "b98d12d7",
   "metadata": {},
   "outputs": [],
   "source": [
    "Pred_Sentiment = []"
   ]
  },
  {
   "cell_type": "code",
   "execution_count": 161,
   "id": "0e248752",
   "metadata": {},
   "outputs": [],
   "source": [
    "for i in argMax:\n",
    "    if i==1:\n",
    "        Pred_Sentiment.append(\"Positive\")\n",
    "    else:\n",
    "        Pred_Sentiment.append(\"Negative\")"
   ]
  },
  {
   "cell_type": "code",
   "execution_count": 159,
   "id": "143eeceb",
   "metadata": {},
   "outputs": [
    {
     "data": {
      "text/plain": [
       "[1,\n",
       " 1,\n",
       " 1,\n",
       " 1,\n",
       " 1,\n",
       " 1,\n",
       " 1,\n",
       " 1,\n",
       " 1,\n",
       " 1,\n",
       " 1,\n",
       " 1,\n",
       " 1,\n",
       " 1,\n",
       " 1,\n",
       " 1,\n",
       " 1,\n",
       " 1,\n",
       " 1,\n",
       " 1,\n",
       " 1,\n",
       " 1,\n",
       " 1,\n",
       " 1,\n",
       " 1,\n",
       " 1,\n",
       " 1,\n",
       " 1,\n",
       " 1,\n",
       " 1,\n",
       " 1,\n",
       " 1,\n",
       " 1,\n",
       " 1,\n",
       " 1,\n",
       " 1,\n",
       " 1,\n",
       " 1,\n",
       " 1,\n",
       " 1,\n",
       " 1,\n",
       " 1,\n",
       " 1,\n",
       " 1,\n",
       " 1,\n",
       " 1,\n",
       " 1,\n",
       " 1,\n",
       " 1,\n",
       " 1,\n",
       " 1,\n",
       " 1,\n",
       " 1,\n",
       " 1,\n",
       " 1,\n",
       " 1,\n",
       " 1,\n",
       " 1,\n",
       " 1,\n",
       " 1,\n",
       " 1,\n",
       " 1,\n",
       " 1,\n",
       " 1,\n",
       " 1,\n",
       " 1,\n",
       " 1,\n",
       " 1,\n",
       " 1,\n",
       " 'Positive',\n",
       " 'Positive',\n",
       " 'Positive',\n",
       " 'Positive',\n",
       " 'Positive',\n",
       " 'Positive',\n",
       " 'Positive',\n",
       " 'Positive',\n",
       " 'Positive',\n",
       " 'Positive',\n",
       " 'Positive',\n",
       " 'Positive',\n",
       " 'Positive',\n",
       " 'Positive',\n",
       " 'Positive',\n",
       " 'Positive',\n",
       " 'Positive',\n",
       " 'Positive',\n",
       " 'Positive',\n",
       " 'Positive',\n",
       " 'Positive',\n",
       " 'Positive',\n",
       " 'Positive',\n",
       " 'Positive',\n",
       " 'Positive',\n",
       " 'Positive',\n",
       " 'Positive',\n",
       " 'Positive',\n",
       " 'Positive',\n",
       " 'Positive',\n",
       " 'Positive',\n",
       " 'Positive',\n",
       " 'Positive',\n",
       " 'Positive',\n",
       " 'Positive',\n",
       " 'Positive',\n",
       " 'Positive',\n",
       " 'Positive',\n",
       " 'Positive',\n",
       " 'Positive',\n",
       " 'Positive',\n",
       " 'Positive',\n",
       " 'Positive',\n",
       " 'Positive',\n",
       " 'Positive',\n",
       " 'Positive',\n",
       " 'Positive',\n",
       " 'Positive',\n",
       " 'Positive',\n",
       " 'Positive',\n",
       " 'Positive',\n",
       " 'Positive',\n",
       " 'Positive',\n",
       " 'Positive',\n",
       " 'Positive',\n",
       " 'Positive',\n",
       " 'Positive',\n",
       " 'Positive',\n",
       " 'Positive',\n",
       " 'Positive',\n",
       " 'Positive',\n",
       " 'Positive',\n",
       " 'Positive',\n",
       " 'Positive',\n",
       " 'Positive',\n",
       " 'Positive',\n",
       " 'Positive',\n",
       " 'Positive',\n",
       " 'Positive']"
      ]
     },
     "execution_count": 159,
     "metadata": {},
     "output_type": "execute_result"
    }
   ],
   "source": [
    "Pred_Sentiment"
   ]
  },
  {
   "cell_type": "code",
   "execution_count": null,
   "id": "648b1b9b",
   "metadata": {},
   "outputs": [],
   "source": []
  },
  {
   "cell_type": "code",
   "execution_count": 162,
   "id": "20f79755",
   "metadata": {},
   "outputs": [
    {
     "ename": "NameError",
     "evalue": "name 'Afinn' is not defined",
     "output_type": "error",
     "traceback": [
      "\u001b[1;31m---------------------------------------------------------------------------\u001b[0m",
      "\u001b[1;31mNameError\u001b[0m                                 Traceback (most recent call last)",
      "\u001b[1;32mC:\\Users\\SHREER~1\\AppData\\Local\\Temp/ipykernel_22244/1909852732.py\u001b[0m in \u001b[0;36m<module>\u001b[1;34m\u001b[0m\n\u001b[1;32m----> 1\u001b[1;33m \u001b[0maf\u001b[0m \u001b[1;33m=\u001b[0m \u001b[0mAfinn\u001b[0m\u001b[1;33m(\u001b[0m\u001b[1;33m)\u001b[0m\u001b[1;33m\u001b[0m\u001b[1;33m\u001b[0m\u001b[0m\n\u001b[0m",
      "\u001b[1;31mNameError\u001b[0m: name 'Afinn' is not defined"
     ]
    }
   ],
   "source": [
    "af = Afinn()"
   ]
  },
  {
   "cell_type": "code",
   "execution_count": 163,
   "id": "d80defb6",
   "metadata": {},
   "outputs": [
    {
     "data": {
      "text/html": [
       "<div>\n",
       "<style scoped>\n",
       "    .dataframe tbody tr th:only-of-type {\n",
       "        vertical-align: middle;\n",
       "    }\n",
       "\n",
       "    .dataframe tbody tr th {\n",
       "        vertical-align: top;\n",
       "    }\n",
       "\n",
       "    .dataframe thead th {\n",
       "        text-align: right;\n",
       "    }\n",
       "</style>\n",
       "<table border=\"1\" class=\"dataframe\">\n",
       "  <thead>\n",
       "    <tr style=\"text-align: right;\">\n",
       "      <th></th>\n",
       "      <th>Review</th>\n",
       "      <th>Star</th>\n",
       "      <th>Emotion</th>\n",
       "    </tr>\n",
       "  </thead>\n",
       "  <tbody>\n",
       "    <tr>\n",
       "      <th>0</th>\n",
       "      <td>this is my st ever echo  im amazed by its capa...</td>\n",
       "      <td>4.4</td>\n",
       "      <td>positive</td>\n",
       "    </tr>\n",
       "    <tr>\n",
       "      <th>1</th>\n",
       "      <td>excellent product super quality it capable to ...</td>\n",
       "      <td>5.0</td>\n",
       "      <td>positive</td>\n",
       "    </tr>\n",
       "    <tr>\n",
       "      <th>2</th>\n",
       "      <td>so it is my first echo dotit definitely looks ...</td>\n",
       "      <td>2.0</td>\n",
       "      <td>negative</td>\n",
       "    </tr>\n",
       "    <tr>\n",
       "      <th>3</th>\n",
       "      <td>i was expecting more as its th gen but disappo...</td>\n",
       "      <td>5.0</td>\n",
       "      <td>positive</td>\n",
       "    </tr>\n",
       "    <tr>\n",
       "      <th>4</th>\n",
       "      <td>love the new revamped version of alexa  all yo...</td>\n",
       "      <td>5.0</td>\n",
       "      <td>positive</td>\n",
       "    </tr>\n",
       "  </tbody>\n",
       "</table>\n",
       "</div>"
      ],
      "text/plain": [
       "                                              Review  Star   Emotion\n",
       "0  this is my st ever echo  im amazed by its capa...   4.4  positive\n",
       "1  excellent product super quality it capable to ...   5.0  positive\n",
       "2  so it is my first echo dotit definitely looks ...   2.0  negative\n",
       "3  i was expecting more as its th gen but disappo...   5.0  positive\n",
       "4  love the new revamped version of alexa  all yo...   5.0  positive"
      ]
     },
     "execution_count": 163,
     "metadata": {},
     "output_type": "execute_result"
    }
   ],
   "source": [
    "df.head()"
   ]
  },
  {
   "cell_type": "code",
   "execution_count": 164,
   "id": "b171482b",
   "metadata": {},
   "outputs": [],
   "source": [
    "Y=pd.get_dummies(df.Emotion)"
   ]
  },
  {
   "cell_type": "code",
   "execution_count": 165,
   "id": "a2d08eef",
   "metadata": {},
   "outputs": [],
   "source": [
    "from sklearn.feature_extraction.text import CountVectorizer,TfidfVectorizer"
   ]
  },
  {
   "cell_type": "code",
   "execution_count": 170,
   "id": "95eb4df4",
   "metadata": {},
   "outputs": [],
   "source": [
    "x_train,x_test,y_train,y_test=train_test_split(final_x,Y,test_size=0.2)"
   ]
  },
  {
   "cell_type": "code",
   "execution_count": 171,
   "id": "fa6a678e",
   "metadata": {},
   "outputs": [],
   "source": [
    "countvec=CountVectorizer(min_df=2).fit(x_train)"
   ]
  },
  {
   "cell_type": "code",
   "execution_count": 172,
   "id": "a4277208",
   "metadata": {},
   "outputs": [],
   "source": [
    "train_dtm=countvec.transform(x_train)\n",
    "test_dtm=countvec.transform(x_test)"
   ]
  },
  {
   "cell_type": "code",
   "execution_count": 173,
   "id": "0a8c0497",
   "metadata": {},
   "outputs": [
    {
     "data": {
      "text/plain": [
       "'st echo im amaz capabl feel necess itth want depend dependentit impuls purchas experi echo devic experi technolog thing us like ask question weather alarm new etcnow pro love design good weight sturdi built good bass driver high tweeter ad unbeliev clariti sound easili pair alexa app price moder connect smart plug smart bulb easili plai appl music u hv subscript auto pair light cut excel sound qualiti wize feet power adaptor cabl line mm connect extern speaker htcon need continu power need continu wifi connectioncolor black white blue black give contrast light ring black doesnt dirti easili give distinct lookthat friend ask question'"
      ]
     },
     "execution_count": 173,
     "metadata": {},
     "output_type": "execute_result"
    }
   ],
   "source": [
    "x_train[0]"
   ]
  },
  {
   "cell_type": "code",
   "execution_count": 176,
   "id": "06613d67",
   "metadata": {},
   "outputs": [],
   "source": [
    "vocabSize = 6000\n",
    "\n",
    "from tensorflow.keras.preprocessing.text import Tokenizer\n",
    "from tensorflow.keras.preprocessing.sequence import pad_sequences\n",
    "\n",
    "tokenizer = Tokenizer(num_words=vocabSize, split=' ')\n",
    "tokenizer.fit_on_texts(final_x.values)\n",
    "X_train = tokenizer.texts_to_sequences(x_train.values)\n",
    "X_train = pad_sequences(X_train)\n",
    "\n",
    "X_test = tokenizer.texts_to_sequences(x_test.values)\n",
    "X_test = pad_sequences(X_test)"
   ]
  },
  {
   "cell_type": "code",
   "execution_count": 177,
   "id": "d04349df",
   "metadata": {},
   "outputs": [
    {
     "name": "stdout",
     "output_type": "stream",
     "text": [
      "Model: \"sequential_12\"\n",
      "_________________________________________________________________\n",
      " Layer (type)                Output Shape              Param #   \n",
      "=================================================================\n",
      " embedding_10 (Embedding)    (None, 444, 128)          768000    \n",
      "                                                                 \n",
      " spatial_dropout1d_2 (Spatia  (None, 444, 128)         0         \n",
      " lDropout1D)                                                     \n",
      "                                                                 \n",
      " lstm_8 (LSTM)               (None, 196)               254800    \n",
      "                                                                 \n",
      " dense_7 (Dense)             (None, 2)                 394       \n",
      "                                                                 \n",
      "=================================================================\n",
      "Total params: 1,023,194\n",
      "Trainable params: 1,023,194\n",
      "Non-trainable params: 0\n",
      "_________________________________________________________________\n",
      "None\n"
     ]
    }
   ],
   "source": [
    "from tensorflow.keras.models import Sequential\n",
    "from tensorflow.keras.layers import Dense, Embedding, LSTM, SpatialDropout1D\n",
    "\n",
    "embed_dim = 128\n",
    "lstm_out = 196\n",
    "\n",
    "model = Sequential()\n",
    "model.add(Embedding(vocabSize, embed_dim,input_length = X.shape[1]))\n",
    "model.add(SpatialDropout1D(0.2))\n",
    "model.add(LSTM(lstm_out, dropout=0.1, recurrent_dropout=0.1))\n",
    "model.add(Dense(2,activation='softmax'))\n",
    "model.compile(loss = 'categorical_crossentropy', optimizer='adam',metrics = ['accuracy'])\n",
    "print(model.summary())"
   ]
  },
  {
   "cell_type": "code",
   "execution_count": 178,
   "id": "264201d6",
   "metadata": {},
   "outputs": [
    {
     "name": "stdout",
     "output_type": "stream",
     "text": [
      "Epoch 1/5\n",
      "55/55 - 78s - loss: 0.6578 - accuracy: 0.6945 - 78s/epoch - 1s/step\n",
      "Epoch 2/5\n",
      "55/55 - 108s - loss: 0.5400 - accuracy: 0.7164 - 108s/epoch - 2s/step\n",
      "Epoch 3/5\n",
      "55/55 - 112s - loss: 0.3479 - accuracy: 0.8618 - 112s/epoch - 2s/step\n",
      "Epoch 4/5\n",
      "55/55 - 26154s - loss: 0.1952 - accuracy: 0.9200 - 26154s/epoch - 476s/step\n",
      "Epoch 5/5\n",
      "55/55 - 89s - loss: 0.1659 - accuracy: 0.9236 - 89s/epoch - 2s/step\n"
     ]
    },
    {
     "data": {
      "text/plain": [
       "<keras.callbacks.History at 0x2559dfb66d0>"
      ]
     },
     "execution_count": 178,
     "metadata": {},
     "output_type": "execute_result"
    }
   ],
   "source": [
    "model.fit(X_train, Y_train, epochs = 5, batch_size=batch_size, verbose = 2)"
   ]
  },
  {
   "cell_type": "code",
   "execution_count": null,
   "id": "cde9d942",
   "metadata": {},
   "outputs": [],
   "source": []
  }
 ],
 "metadata": {
  "kernelspec": {
   "display_name": "Python 3 (ipykernel)",
   "language": "python",
   "name": "python3"
  },
  "language_info": {
   "codemirror_mode": {
    "name": "ipython",
    "version": 3
   },
   "file_extension": ".py",
   "mimetype": "text/x-python",
   "name": "python",
   "nbconvert_exporter": "python",
   "pygments_lexer": "ipython3",
   "version": "3.9.7"
  }
 },
 "nbformat": 4,
 "nbformat_minor": 5
}
